{
 "cells": [
  {
   "cell_type": "markdown",
   "id": "eb9975d9",
   "metadata": {},
   "source": [
    "# Golf Ball Simulator\n",
    "\n",
    "We provide the framework and testing for a golf ball flight simulator using Monte Carlo methods to predict landing sites.\n",
    "\n",
    "## Equations of Motion\n",
    "\n",
    "Consider a golf ball of mass $m$, cross-sectional area $A$, that experiences projectile motion in three dimensions when hit by a club. To model the motion of the golf ball's trajectory, we begin by Newton's Second Law, \n",
    "\n",
    "$$\n",
    "\\sum_i \\vec{F}_i = \\frac{\\partial \\vec{p}}{\\partial t}\n",
    "$$\n",
    "\n",
    "Since $\\vec{p} = m\\vec{v}$ for a ball of mass $m$, we have \n",
    "\n",
    "$$\n",
    "\\frac{\\partial \\vec{p}}{\\partial t} = \\frac{\\partial}{\\partial t}(m\\vec{v}) = m \\frac{\\partial \\vec{v}}{\\partial t}.\n",
    "$$\n",
    "\n",
    "Assuming air drag is not negligible and a possibility for spinning (i.e., magnus effect): \n",
    "\n",
    "$$\n",
    "\\vec{F}_\\text{grav} + \\vec{F}_\\text{drag} + \\vec{F}_\\text{magnus} = m \\frac{\\partial \\vec{v}}{\\partial t}\n",
    "$$\n"
   ]
  },
  {
   "cell_type": "markdown",
   "id": "8480e8c8",
   "metadata": {},
   "source": []
  }
 ],
 "metadata": {
  "language_info": {
   "name": "python"
  }
 },
 "nbformat": 4,
 "nbformat_minor": 5
}
