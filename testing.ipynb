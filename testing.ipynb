{
 "cells": [
  {
   "cell_type": "markdown",
   "id": "eb9975d9",
   "metadata": {},
   "source": [
    "# Golf Ball Simulator\n",
    "\n",
    "We provide the framework and testing for a golf ball flight simulator using Monte Carlo methods to predict landing sites.\n",
    "\n",
    "## Equations of Motion\n",
    "\n",
    "Consider a golf ball of mass $m$, cross-sectional area $A$, that experiences projectile motion in three dimensions when hit by a club. To model the motion of the golf ball's trajectory, we begin by Newton's Second Law, \n",
    "\n",
    "$$\n",
    "\\sum_i \\vec{F}_i = \\frac{\\partial \\vec{p}}{\\partial t}\n",
    "$$\n",
    "\n",
    "Since $\\vec{p} = m\\vec{v}$ for a ball of mass $m$, we have \n",
    "\n",
    "$$\n",
    "\\frac{\\partial \\vec{p}}{\\partial t} = \\frac{\\partial}{\\partial t}(m\\vec{v}) = m \\frac{\\partial \\vec{v}}{\\partial t}.\n",
    "$$\n",
    "\n",
    "Assuming air drag is not negligible and a possibility for spinning (i.e., magnus effect): \n",
    "\n",
    "$$\n",
    "\\vec{F}_\\text{grav} + \\vec{F}_\\text{drag} + \\vec{F}_\\text{magnus} = m \\frac{\\partial \\vec{v}}{\\partial t}\n",
    "$$\n",
    "\n",
    "Gravitational forces only act on the $z$-axis. Air drag is affected by the air's density $\\rho$, the cross-sectional area of the ball, its velocity $\\vec{v}$, its magnitude $\\mid \\vec{v} \\mid$, and a drag coefficient which opposes the ball's motion such that, \n",
    "\n",
    "$$\n",
    "\\vec{F}_\\text{drag} = -\\frac{1}{2}\\rho C_d A \\vec{v} \\mid \\vec{v} \\mid\n",
    "$$\n",
    "\n",
    "Similarly, the magnus effect (spinning) arises from a lift coefficient $C_L$ and the unit vector of the angular velocity $\\hat{\\omega}$, which determines the direction of the spin, such that:\n",
    "\n",
    "$$\n",
    "\\vec{F}_\\text{magnus} = -\\frac{1}{2}\\rho C_L A \\mid \\vec{v}\\mid^2 \\hat{\\omega}\\times \\hat{v}\n",
    "$$\n",
    "\n",
    "By the fact that $\\hat{\\omega} = \\frac{\\vec{\\omega}}{\\mid \\vec{\\omega}\\mid}$, \n",
    "\n",
    "$$\n",
    "\\vec{F}_\\text{magnus} = -\\frac{1}{2}\\rho C_L A \\mid \\vec{v}\\mid^2 \\left( \\frac{\\vec{\\omega}\\times \\vec{v}}{\\mid \\vec{\\omega}\\mid \\mid \\vec{v}\\mid}\\right).\n",
    "$$\n",
    "\n",
    "Therefore, the equation of motion for a golf ball's trajectory is\n",
    "\n",
    "$$\n",
    "\\vec{F}_\\text{grav} - \\frac{1}{2}\\rho C_d A \\vec{v} \\mid \\vec{v} \\mid -\\frac{1}{2}\\rho C_L A \\mid \\vec{v}\\mid^2 \\left( \\frac{\\vec{\\omega}\\times \\vec{v}}{\\mid \\vec{\\omega}\\mid \\mid \\vec{v}\\mid}\\right) \n",
    "= m \\frac{\\partial \\vec{v}}{\\partial t}.\n",
    "$$"
   ]
  },
  {
   "cell_type": "code",
   "execution_count": null,
   "id": "faba6231",
   "metadata": {},
   "outputs": [
    {
     "ename": "",
     "evalue": "",
     "output_type": "error",
     "traceback": [
      "\u001b[1;31mRunning cells with 'Python 3.12.3' requires the ipykernel package.\n",
      "\u001b[1;31m<a href='command:jupyter.createPythonEnvAndSelectController'>Create a Python Environment</a> with the required packages.\n",
      "\u001b[1;31mOr install 'ipykernel' using the command: '/usr/bin/python3 -m pip install ipykernel -U --user --force-reinstall'"
     ]
    }
   ],
   "source": [
    "import numpy as np \n",
    "from scipy.integrate import solve_ivp"
   ]
  },
  {
   "cell_type": "code",
   "execution_count": null,
   "id": "51436f93",
   "metadata": {},
   "outputs": [],
   "source": []
  }
 ],
 "metadata": {
  "kernelspec": {
   "display_name": "Python 3",
   "language": "python",
   "name": "python3"
  },
  "language_info": {
   "name": "python",
   "version": "3.12.3"
  }
 },
 "nbformat": 4,
 "nbformat_minor": 5
}
